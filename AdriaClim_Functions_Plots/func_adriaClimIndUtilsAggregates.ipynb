{
 "cells": [
  {
   "cell_type": "code",
   "execution_count": 1,
   "id": "42090b8e-b268-4c04-aad0-0b5aba6293e0",
   "metadata": {},
   "outputs": [],
   "source": [
    "import xarray as xr\n",
    "import pandas as pd\n",
    "import adriaClimIndUtilsAggregates as pv\n"
   ]
  },
  {
   "cell_type": "code",
   "execution_count": 2,
   "id": "d3c0abf1-66f6-4dc6-bc77-5800df0e4e27",
   "metadata": {},
   "outputs": [],
   "source": [
    "pv.areaPerimeter =pd.read_csv (\"areaAdriatic.csv\")"
   ]
  },
  {
   "cell_type": "code",
   "execution_count": 3,
   "id": "0208696f-5684-4088-9aa0-2eb8cb155216",
   "metadata": {},
   "outputs": [],
   "source": [
    "rawDataFileSpec = pv.acNcFileSpec(ncFileName=\"CMEMS_SST.nc\",VarName=\"thetao\", xVarName=\"lon\", yVarName=\"lat\", zVarName=\"depth\", tVarName=\"time\" )"
   ]
  },
  {
   "cell_type": "code",
   "execution_count": 4,
   "id": "91b6e7e1-b16d-4346-9fb9-d519cd1d634c",
   "metadata": {},
   "outputs": [],
   "source": [
    "dataOutput = \"CMEMS_SST_clipped.nc\""
   ]
  },
  {
   "cell_type": "code",
   "execution_count": 5,
   "id": "1d119ae7-c3f9-4991-8a32-9a5f88c3ab79",
   "metadata": {},
   "outputs": [
    {
     "name": "stdout",
     "output_type": "stream",
     "text": [
      "CMEMS SST Dimension: <adriaClimIndUtilsAggregates.acNcFileSpec object at 0x00000292CD2F7250>\n",
      "Clipped Area Dimensions:            LON        LAT\n",
      "0    19.641391  39.744436\n",
      "1    18.375273  39.798191\n",
      "2    18.391109  39.816245\n",
      "3    18.399336  39.899609\n",
      "4    18.399436  39.936100\n",
      "..         ...        ...\n",
      "413  19.694582  39.794718\n",
      "414  19.673055  39.793055\n",
      "415  19.650836  39.772500\n",
      "416  19.640000  39.756664\n",
      "417  19.641391  39.744436\n",
      "\n",
      "[418 rows x 2 columns]\n",
      "Reseized Area: <xarray.Dataset>\n",
      "Dimensions:  (time: 12053, lat: 146, lon: 188)\n",
      "Coordinates:\n",
      "  * time     (time) datetime64[ns] 1987-01-01T12:00:00 ... 2019-12-31T12:00:00\n",
      "    depth    float32 ...\n",
      "  * lat      (lat) float32 39.73 39.77 39.81 39.85 ... 45.65 45.69 45.73 45.77\n",
      "  * lon      (lon) float32 12.17 12.21 12.25 12.29 ... 19.83 19.88 19.92 19.96\n",
      "Data variables:\n",
      "    thetao   (time, lat, lon) float32 ...\n",
      "Attributes:\n",
      "    Conventions:  CF-1.8\n",
      "saving to  CMEMS_SST_clipped.nc\n",
      "finished saving\n"
     ]
    }
   ],
   "source": [
    "clippedData = pv.acClipDataOnRegion(rawDataFileSpec, pv.areaPerimeter,dataOutput)"
   ]
  },
  {
   "cell_type": "code",
   "execution_count": 6,
   "id": "8f034ef1-84d0-4cbd-8093-94b33ac13337",
   "metadata": {},
   "outputs": [],
   "source": [
    "ncRawDataFileName1 = \"CMEMS_SST_clipped.nc\"\n",
    "annualMapsNcFile = \"CMEMS_SST_clipped_Annual_Mean.nc\""
   ]
  },
  {
   "cell_type": "code",
   "execution_count": 7,
   "id": "57c5f0b1-851b-439a-bae8-7e70c121941d",
   "metadata": {},
   "outputs": [],
   "source": [
    "rawData1 = xr.open_dataset(ncRawDataFileName1)\n"
   ]
  },
  {
   "cell_type": "code",
   "execution_count": 8,
   "id": "62e5cce5-822a-422a-a066-a1d3c54adc2e",
   "metadata": {},
   "outputs": [
    {
     "name": "stdout",
     "output_type": "stream",
     "text": [
      "ANNUAL MEAN for 33 years: <xarray.Dataset>\n",
      "Dimensions:  (lat: 146, lon: 188, year: 33)\n",
      "Coordinates:\n",
      "    depth    float32 1.018\n",
      "  * lat      (lat) float32 39.73 39.77 39.81 39.85 ... 45.65 45.69 45.73 45.77\n",
      "  * lon      (lon) float32 12.17 12.21 12.25 12.29 ... 19.83 19.88 19.92 19.96\n",
      "  * year     (year) int64 1987 1988 1989 1990 1991 ... 2015 2016 2017 2018 2019\n",
      "Data variables:\n",
      "    thetao   (year, lat, lon) float32 19.11 19.11 19.12 19.13 ... nan nan nan\n",
      "saving to  CMEMS_SST_clipped_Annual_Mean.nc\n",
      "finished saving\n",
      "Annual Mean minimum T: <xarray.DataArray 'thetao' ()>\n",
      "array(15.03822803)\n",
      "Coordinates:\n",
      "    depth    float32 1.018\n",
      "Annual Mean maximum T: <xarray.DataArray 'thetao' ()>\n",
      "array(20.71779823)\n",
      "Coordinates:\n",
      "    depth    float32 1.018\n"
     ]
    }
   ],
   "source": [
    "clippedDataAM = pv.acGenerate2DAnnualMeanMaps(rawData1, annualMapsNcFile)"
   ]
  },
  {
   "cell_type": "code",
   "execution_count": 9,
   "id": "003d4d17-0c46-4461-82ba-0920c8ea982d",
   "metadata": {},
   "outputs": [],
   "source": [
    "winter_output= \"CMEMS_SST_2DWINTER_SEASON.nc\"\n",
    "summer_output=\"CMEMS_SST_2DSUMMER_SEASON.nc\""
   ]
  },
  {
   "cell_type": "code",
   "execution_count": 10,
   "id": "d91a08f1-3a35-4057-a6bc-994a4c08abe3",
   "metadata": {},
   "outputs": [
    {
     "name": "stdout",
     "output_type": "stream",
     "text": [
      "Reseized Area: <xarray.Dataset>\n",
      "Dimensions:  (lat: 146, lon: 188, year: 33)\n",
      "Coordinates:\n",
      "    depth    float32 1.018\n",
      "  * lat      (lat) float32 39.73 39.77 39.81 39.85 ... 45.65 45.69 45.73 45.77\n",
      "  * lon      (lon) float32 12.17 12.21 12.25 12.29 ... 19.83 19.88 19.92 19.96\n",
      "  * year     (year) int64 1987 1988 1989 1990 1991 ... 2015 2016 2017 2018 2019\n",
      "Data variables:\n",
      "    thetao   (year, lat, lon) float32 13.69 13.7 13.72 13.75 ... nan nan nan nan\n",
      "WINTER SEASON MINIMUM TEMPERATURE AT SEA SURFACE: <xarray.DataArray 'thetao' ()>\n",
      "array(7.6017065)\n",
      "Coordinates:\n",
      "    depth    float32 1.018\n",
      "WINTER SEASON MAXIMUM TEMPERATURE AT SEA SURFACE: <xarray.DataArray 'thetao' ()>\n",
      "array(16.39769745)\n",
      "Coordinates:\n",
      "    depth    float32 1.018\n",
      "saving to  CMEMS_SST_2DWINTER_SEASON.nc\n",
      "finished saving\n"
     ]
    }
   ],
   "source": [
    "SeasonWinter = pv.acGenerate2DSeasonalWinter(rawData1,winter_output)"
   ]
  },
  {
   "cell_type": "code",
   "execution_count": 11,
   "id": "9fadba32-7bcf-4ae6-bffa-23d26cb047e5",
   "metadata": {},
   "outputs": [
    {
     "name": "stdout",
     "output_type": "stream",
     "text": [
      "Reseized Area: <xarray.Dataset>\n",
      "Dimensions:  (lat: 146, lon: 188, year: 33)\n",
      "Coordinates:\n",
      "    depth    float32 1.018\n",
      "  * lat      (lat) float32 39.73 39.77 39.81 39.85 ... 45.65 45.69 45.73 45.77\n",
      "  * lon      (lon) float32 12.17 12.21 12.25 12.29 ... 19.83 19.88 19.92 19.96\n",
      "  * year     (year) int64 1987 1988 1989 1990 1991 ... 2015 2016 2017 2018 2019\n",
      "Data variables:\n",
      "    thetao   (year, lat, lon) float32 13.69 13.7 13.72 13.75 ... nan nan nan nan\n",
      "WINTER SEASON MINIMUM TEMPERATURE AT SEA SURFACE: <xarray.DataArray 'thetao' ()>\n",
      "array(7.6017065)\n",
      "Coordinates:\n",
      "    depth    float32 1.018\n",
      "WINTER SEASON MAXIMUM TEMPERATURE AT SEA SURFACE: <xarray.DataArray 'thetao' ()>\n",
      "array(16.39769745)\n",
      "Coordinates:\n",
      "    depth    float32 1.018\n",
      "saving to  CMEMS_SST_2DWINTER_SEASON.nc\n",
      "finished saving\n"
     ]
    }
   ],
   "source": [
    "SeasonWinter = pv.acGenerate2DSeasonalWinter(rawData1,winter_output)"
   ]
  },
  {
   "cell_type": "code",
   "execution_count": 12,
   "id": "85dd33ec-066c-4503-972c-82f289b2cecf",
   "metadata": {},
   "outputs": [
    {
     "name": "stdout",
     "output_type": "stream",
     "text": [
      "Reseized Area: <xarray.Dataset>\n",
      "Dimensions:  (lat: 146, lon: 188, year: 33)\n",
      "Coordinates:\n",
      "    depth    float32 1.018\n",
      "  * lat      (lat) float32 39.73 39.77 39.81 39.85 ... 45.65 45.69 45.73 45.77\n",
      "  * lon      (lon) float32 12.17 12.21 12.25 12.29 ... 19.83 19.88 19.92 19.96\n",
      "  * year     (year) int64 1987 1988 1989 1990 1991 ... 2015 2016 2017 2018 2019\n",
      "Data variables:\n",
      "    thetao   (year, lat, lon) float32 25.26 25.27 25.28 25.29 ... nan nan nan\n",
      "SUMMER SEASON MINIMUM TEMPERATURE AT SEA SURFACE: <xarray.DataArray 'thetao' ()>\n",
      "array(19.32642174)\n",
      "Coordinates:\n",
      "    depth    float32 1.018\n",
      "SUMMER SEASON MAXIMUM TEMPERATURE AT SEA SURFACE: <xarray.DataArray 'thetao' ()>\n",
      "array(26.53147507)\n",
      "Coordinates:\n",
      "    depth    float32 1.018\n",
      "saving to  CMEMS_SST_2DSUMMER_SEASON.nc\n",
      "finished saving\n"
     ]
    }
   ],
   "source": [
    "SeasonSummer = pv.acGenerate2DSeasonalSummer(rawData1,summer_output)"
   ]
  },
  {
   "cell_type": "code",
   "execution_count": 13,
   "id": "84055b3b-6a6c-4f8f-a86d-967718d267c6",
   "metadata": {},
   "outputs": [],
   "source": [
    "NcFile1Doutput = \"CMEMS_SST_clipped_1D_FIXED_DIM.nc\"\n"
   ]
  },
  {
   "cell_type": "code",
   "execution_count": 14,
   "id": "07121eb0-bec5-4094-9d96-b46faf0d1a6a",
   "metadata": {},
   "outputs": [],
   "source": [
    "NcFile1DoutputCSV= \"CMEMS_SST_clipped_1D_FIXED_DIM.csv\""
   ]
  },
  {
   "cell_type": "code",
   "execution_count": 15,
   "id": "e082c0e8-fc4a-4377-bdcb-5d17897eea7c",
   "metadata": {},
   "outputs": [],
   "source": [
    "clippedData1Dcsv = pv.acGenerate1DFixDimCSV(NcFile1Doutput,NcFile1DoutputCSV)"
   ]
  },
  {
   "cell_type": "code",
   "execution_count": 16,
   "id": "9ffdd8e5-2e5a-4c79-b848-b6a249a848e5",
   "metadata": {},
   "outputs": [
    {
     "data": {
      "text/plain": [
       "1987-01-01 12:00:00    11.219072\n",
       "1987-01-02 12:00:00    11.174189\n",
       "1987-01-03 12:00:00    11.147052\n",
       "1987-01-04 12:00:00    11.088055\n",
       "1987-01-05 12:00:00    10.890902\n",
       "                         ...    \n",
       "2019-12-27 12:00:00    14.479774\n",
       "2019-12-28 12:00:00    14.412374\n",
       "2019-12-29 12:00:00    14.211684\n",
       "2019-12-30 12:00:00    14.015491\n",
       "2019-12-31 12:00:00    13.861705\n",
       "Length: 12053, dtype: float32"
      ]
     },
     "execution_count": 16,
     "metadata": {},
     "output_type": "execute_result"
    }
   ],
   "source": [
    "clippedData1Dcsv"
   ]
  },
  {
   "cell_type": "code",
   "execution_count": null,
   "id": "54503a27-917c-465d-b713-905545dbf599",
   "metadata": {},
   "outputs": [],
   "source": []
  },
  {
   "cell_type": "code",
   "execution_count": null,
   "id": "11ec51a4-6cb2-440a-939c-fa648c8b84c0",
   "metadata": {},
   "outputs": [],
   "source": []
  },
  {
   "cell_type": "code",
   "execution_count": null,
   "id": "3e374aa9-9704-4e39-bb80-d3af1a6ec3a3",
   "metadata": {},
   "outputs": [],
   "source": []
  }
 ],
 "metadata": {
  "kernelspec": {
   "display_name": "Python 3 (ipykernel)",
   "language": "python",
   "name": "python3"
  },
  "language_info": {
   "codemirror_mode": {
    "name": "ipython",
    "version": 3
   },
   "file_extension": ".py",
   "mimetype": "text/x-python",
   "name": "python",
   "nbconvert_exporter": "python",
   "pygments_lexer": "ipython3",
   "version": "3.8.11"
  }
 },
 "nbformat": 4,
 "nbformat_minor": 5
}
